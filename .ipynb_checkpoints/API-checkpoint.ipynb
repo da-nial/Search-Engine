{
 "cells": [
  {
   "cell_type": "code",
   "execution_count": 62,
   "id": "97951ede",
   "metadata": {},
   "outputs": [],
   "source": [
    "import ast"
   ]
  },
  {
   "cell_type": "code",
   "execution_count": 45,
   "id": "f69badeb",
   "metadata": {},
   "outputs": [],
   "source": [
    "import pandas as pd\n",
    "from io_handler import get_df"
   ]
  },
  {
   "cell_type": "code",
   "execution_count": 46,
   "id": "e1ddc438",
   "metadata": {},
   "outputs": [],
   "source": [
    "file_name = \"IR1_7k_news.xlsx\""
   ]
  },
  {
   "cell_type": "code",
   "execution_count": 69,
   "id": "764992c2",
   "metadata": {},
   "outputs": [],
   "source": [
    "df, is_preprocessed = get_df(file_name)"
   ]
  },
  {
   "cell_type": "code",
   "execution_count": 70,
   "id": "92a40a0b",
   "metadata": {},
   "outputs": [
    {
     "data": {
      "text/html": [
       "<div>\n",
       "<style scoped>\n",
       "    .dataframe tbody tr th:only-of-type {\n",
       "        vertical-align: middle;\n",
       "    }\n",
       "\n",
       "    .dataframe tbody tr th {\n",
       "        vertical-align: top;\n",
       "    }\n",
       "\n",
       "    .dataframe thead th {\n",
       "        text-align: right;\n",
       "    }\n",
       "</style>\n",
       "<table border=\"1\" class=\"dataframe\">\n",
       "  <thead>\n",
       "    <tr style=\"text-align: right;\">\n",
       "      <th></th>\n",
       "      <th>content</th>\n",
       "      <th>url</th>\n",
       "      <th>title</th>\n",
       "      <th>tokens</th>\n",
       "    </tr>\n",
       "  </thead>\n",
       "  <tbody>\n",
       "    <tr>\n",
       "      <th>0</th>\n",
       "      <td>مسلم مجدمی در گفت‌وگو با خبرنگار ورزشی خبرگزار...</td>\n",
       "      <td>https://www.farsnews.ir/news/14000803000922/وا...</td>\n",
       "      <td>واکنش بازیکن نفت مسجدسلیمان به صحبت‌های پیروان...</td>\n",
       "      <td>['مسل', 'مجدم', 'گفت\\u200cوگو', 'خبرنگار', 'ور...</td>\n",
       "    </tr>\n",
       "    <tr>\n",
       "      <th>1</th>\n",
       "      <td>به گزارش خبرنگار ورزشی خبرگزاری فارس، در آخرین...</td>\n",
       "      <td>https://www.farsnews.ir/news/14000803000896/هف...</td>\n",
       "      <td>هفته دوم لیگ برتر| پرسپولیس مقابل تیم سختکوش ن...</td>\n",
       "      <td>['خبرنگار', 'ورزش', 'خبرگزار', 'فارس', '،', 'آ...</td>\n",
       "    </tr>\n",
       "    <tr>\n",
       "      <th>2</th>\n",
       "      <td>به گزارش خبرنگار ورزشی خبرگزاری فارس، زندگی بد...</td>\n",
       "      <td>https://www.farsnews.ir/news/14000803000413/اج...</td>\n",
       "      <td>اجاره نشینی قهرمان جهان و پارالمپیک در خانه 50...</td>\n",
       "      <td>['خبرنگار', 'ورزش', 'خبرگزار', 'فارس', '،', 'ز...</td>\n",
       "    </tr>\n",
       "    <tr>\n",
       "      <th>3</th>\n",
       "      <td>پرویز برومند در گفت و گو با خبرنگار ورزشی خبرگ...</td>\n",
       "      <td>https://www.farsnews.ir/news/14000803000926/بر...</td>\n",
       "      <td>برومند: یامگا هم می تواند جباری باشد هم تیام/ا...</td>\n",
       "      <td>['پرویز', 'برومند', 'گف', 'گو', 'خبرنگار', 'ور...</td>\n",
       "    </tr>\n",
       "    <tr>\n",
       "      <th>4</th>\n",
       "      <td>به گزارش خبرگزاری فارس، فهرستی از برترین مهاجم...</td>\n",
       "      <td>https://www.farsnews.ir/news/14000803000971/بر...</td>\n",
       "      <td>برترین مهاجمان فوتبال با بهترین میانگین گلزنی/...</td>\n",
       "      <td>['خبرگزار', 'فارس', '،', 'فهرست', 'بر', 'مهاج'...</td>\n",
       "    </tr>\n",
       "  </tbody>\n",
       "</table>\n",
       "</div>"
      ],
      "text/plain": [
       "                                             content  \\\n",
       "0  مسلم مجدمی در گفت‌وگو با خبرنگار ورزشی خبرگزار...   \n",
       "1  به گزارش خبرنگار ورزشی خبرگزاری فارس، در آخرین...   \n",
       "2  به گزارش خبرنگار ورزشی خبرگزاری فارس، زندگی بد...   \n",
       "3  پرویز برومند در گفت و گو با خبرنگار ورزشی خبرگ...   \n",
       "4  به گزارش خبرگزاری فارس، فهرستی از برترین مهاجم...   \n",
       "\n",
       "                                                 url  \\\n",
       "0  https://www.farsnews.ir/news/14000803000922/وا...   \n",
       "1  https://www.farsnews.ir/news/14000803000896/هف...   \n",
       "2  https://www.farsnews.ir/news/14000803000413/اج...   \n",
       "3  https://www.farsnews.ir/news/14000803000926/بر...   \n",
       "4  https://www.farsnews.ir/news/14000803000971/بر...   \n",
       "\n",
       "                                               title  \\\n",
       "0  واکنش بازیکن نفت مسجدسلیمان به صحبت‌های پیروان...   \n",
       "1  هفته دوم لیگ برتر| پرسپولیس مقابل تیم سختکوش ن...   \n",
       "2  اجاره نشینی قهرمان جهان و پارالمپیک در خانه 50...   \n",
       "3  برومند: یامگا هم می تواند جباری باشد هم تیام/ا...   \n",
       "4  برترین مهاجمان فوتبال با بهترین میانگین گلزنی/...   \n",
       "\n",
       "                                              tokens  \n",
       "0  ['مسل', 'مجدم', 'گفت\\u200cوگو', 'خبرنگار', 'ور...  \n",
       "1  ['خبرنگار', 'ورزش', 'خبرگزار', 'فارس', '،', 'آ...  \n",
       "2  ['خبرنگار', 'ورزش', 'خبرگزار', 'فارس', '،', 'ز...  \n",
       "3  ['پرویز', 'برومند', 'گف', 'گو', 'خبرنگار', 'ور...  \n",
       "4  ['خبرگزار', 'فارس', '،', 'فهرست', 'بر', 'مهاج'...  "
      ]
     },
     "execution_count": 70,
     "metadata": {},
     "output_type": "execute_result"
    }
   ],
   "source": [
    "df.head()"
   ]
  },
  {
   "cell_type": "code",
   "execution_count": 71,
   "id": "51cf06c6",
   "metadata": {},
   "outputs": [
    {
     "data": {
      "text/plain": [
       "True"
      ]
     },
     "execution_count": 71,
     "metadata": {},
     "output_type": "execute_result"
    }
   ],
   "source": [
    "is_preprocessed"
   ]
  },
  {
   "cell_type": "code",
   "execution_count": 72,
   "id": "1c4b8a2f",
   "metadata": {},
   "outputs": [],
   "source": [
    "from preprocessing import Preprocessor\n",
    "preprocessor = Preprocessor(df)"
   ]
  },
  {
   "cell_type": "code",
   "execution_count": 56,
   "id": "e3e7c58c",
   "metadata": {},
   "outputs": [],
   "source": [
    "from positional_indexing import get_tokens_info_dict\n",
    "tokens_info = get_tokens_info_dict(df)"
   ]
  },
  {
   "cell_type": "code",
   "execution_count": 57,
   "id": "66a5709a",
   "metadata": {},
   "outputs": [
    {
     "data": {
      "text/plain": [
       "dict_keys(['[', \"'\", 'م', 'س', 'ل', ',', ' ', 'ج', 'د', 'گ', 'ف', 'ت', '\\\\', 'u', '2', '0', 'c', 'و', 'خ', 'ب', 'ر', 'ن', 'ا', 'ز', 'ش', 'ک', '۳', 'ص', 'ق', 'پ', 'ه', 'ظ', ':', 'ی', '.', 'غ', 'ع', '_', 'ط', 'ح', '۱', '۰', 'ض', 'چ', 'آ', ']', '(', 'h', 't', 'p', 's', '/', 'w', 'f', 'a', 'r', 'n', 'e', 'i', 'l', ')', '،', '?', 'q', '=', '&', 'o', '؟', 'ئ', 'ذ', '*', '-', '؛', 'ث', '–', '۸', '+', '۲', '۴', '۶', '۹', '۵', '!', 'm', 'd', 'U', 'F', 'I', 'g', 'T', 'N', 'P', 'j', '۷', '٫', 'ژ', '…', 'ء', '«', '»', 'V', 'A', 'R', 'أ', 'C', 'ؤ', '٪', 'D', 'B', 'E', 'G', 'y', 'v', 'b', '|', 'J', 'x', 'S', 'L', 'M', 'z', 'ى', '٣', '٠', '\"', 'ة', 'H', 'Q', 'é', 'Y', 'O', 'k', 'K', '÷', 'Z', 'W', '٧', '٨', '《', '》', 'إ', '١', '٥', '٢', 'ٓ', '٩', '٦', 'ٰ', '<', '>', '¬', 'ۚ', '@', '•', '️', '6', '3', 'ٹ', '·', '٤', '٬', 'ە', 'ۖ', '7', '9', 'ۡ', 'ࣱ', 'ٱ', '▪', '💬', '°', '#', 'ٔ', 'X', '×', 'ﺋ', 'ﻣ', 'ﻬ', 'ﻤ', 'ﺘ', 'ﺮ', 'ﯾ', 'ﻦ', 'ﺣ', 'ﻠ', 'ﻪ', 'ﭘ', 'ﻟ', 'ﺠ', 'ﻓ', 'ﺎ', 'ﺿ', 'ﻼ', 'ﺗ', 'ﺜ', 'ﺒ', 'ﯿ', 'ﺖ', 'ﮔ', 'ﺧ', 'ﺸ', 'ﮏ', 'ı', '’', 'æ', 'ə', '✳', 'Λ', 'λ', 'Л', 'л', 'ﺑ', 'ﻧ', 'ﻮ', 'ﺩ', 'ﺭ', 'ﺳ', 'ﺟ', 'ﻌ', 'ﻭ', 'ﮐ', 'ﺍ', 'ﺢ', 'ﻃ', 'ﯽ', 'ﺙ', 'ﻨ', 'ﺪ', 'ﮓ', 'ﻞ', 'ﺯ', 'ﺰ', 'ﺁ', 'ﻩ', 'ﻘ', 'ﻡ', 'ﻏ', 'ﻢ', 'ﺻ', 'ﻑ', 'ﻋ', 'ﺕ', 'ﯼ', 'ﺱ', 'ﻗ', 'ﻫ', 'ﺄ', 'ﺀ', 'ﮕ', 'ﺴ', 'ﻥ', 'ﺷ', 'ﻐ', 'ﻝ', 'ﻀ', 'ۗ', 'ই', 'র', 'া', 'ন', 'ে', 'প', 'থ', '্', 'ত', 'è', 'ﻖ', 'ﻰ', 'ﺼ', 'ﺤ', 'ﻈ', 'ﭽ', 'ﺛ', 'ﮑ', 'ﻄ', 'ﺬ', '{', '}', 'ۀ', 'Ü', 'ږ', 'ۍ', 'ډ', 'ګ', 'ې', 'څ', 'ړ', 'ټ', 'ښ', 'ڼ', '‹', '›', 'Δ', 'δ'])"
      ]
     },
     "execution_count": 57,
     "metadata": {},
     "output_type": "execute_result"
    }
   ],
   "source": [
    "tokens_info.keys()"
   ]
  },
  {
   "cell_type": "code",
   "execution_count": 75,
   "id": "c19ac5f7",
   "metadata": {},
   "outputs": [
    {
     "data": {
      "text/plain": [
       "\"['مسل', 'مجدم', 'گفت\\\\u200cوگو', 'خبرنگار', 'ورزش', 'خبرگزار', 'فارس', 'مورد', 'شکس', '۳', 'صفر', 'نف', 'مسجدسل', 'مقابل', 'سپاه', 'اظهار', 'دا', ':', 'فکر', 'نمی\\\\u200cکرد', 'اتفاق', 'بیفتد', '.', 'زود', 'گل', 'خورد', 'غافلگیر', 'شد', '.', 'پ', 'شروع', 'مسابق', 'تن', 'هفته', 'تمرین', 'کرده_بود', 'شرایط', 'نمی\\\\u200cتو', 'بقیه', 'تیم', 'مقایسه', 'کرد', '.', 'برخ', 'تیم', 'حت', 'ب', '۱۰', 'باز', 'تدارکات', 'انجا', 'دادند', 'بدنساز', 'موقع', 'داشتند', '.', 'تصریح', 'کرد', ':', 'پ', 'باز', 'وضعیت', 'مشخص', 'نبود', '.', 'زمین', 'خود', 'باز', 'نمی\\\\u200cکرد', 'همه', 'اتفاق', 'دس', 'دس', 'داد', 'مشکل', 'زیاد', 'داشته_باش', '.', 'حال', 'فوتبال', 'برد', 'باخ', 'دارد', 'تلا', 'می\\\\u200cکن', 'امید', 'خدا', 'نتیجه', 'بازی', 'بعد', 'جبر', 'کن', '.', 'مجدم', 'مورد', 'زیر', 'ک', 'رفتن', 'شخ', 'زدن', 'زمین', 'ورزشگاه', 'بهنا', 'پ', 'باز', 'سپاه', 'عنو', 'کرد', ':', '', 'تمرین', 'مسجدسل', 'رفت', 'اما', 'دید', 'اتفاق', 'زمین', 'افتاده_اس', '.', 'نمی\\\\u200cدان', 'کار', 'چه', 'کس', 'بوده', 'اما', 'واقعا', 'ضربه', 'زد', '.', 'راه', 'زیاد', 'تهر', 'اهواز', 'سپس', 'مسجدسل', 'رفت', '.', 'می\\\\u200cخواست', 'آماده', 'باز', 'سپاه', 'شو', 'اما', 'دید', 'شرایط', 'زمین', 'خوب', 'نیس', '.', 'اگر', 'تمرین', 'می\\\\u200cکرد', 'بد', 'می\\\\u200cشد', '.', 'حت', 'جلسه', 'پ', 'دروازه', 'تمرین', 'کرد', 'اما', 'مجبور', 'شد', 'اهواز', 'برگرد', '.', 'شرایط', 'نمی\\\\u200cدان', 'بعد', 'چند', 'هفته', 'زمین', 'خانگ', 'آماده', 'مسابقه', 'می\\\\u200cشود', '.', 'هافبک', 'فوتبال', 'نف', 'مسجدسل', 'مورد', 'اعتراض', '[', 'باشگاه', 'پرسپولیس', ']', '(', 'https', ':', '//www', '.', 'farsnews', '.', 'ir/special/باشگاه', 'پرسپولیس', ')', 'تغییر', 'محل', 'زمین', 'باز', 'اینکه', 'افشین', 'پیروان', 'اعلا', 'کرد', 'اتفاق', 'دادن', 'امتیاز', 'سپاه', 'بود', '،', 'گف', ':', 'فکر', 'نمی\\\\u200cکن', 'شرایط', 'تیم', 'بخواهد', 'دیگر', 'امتیاز', 'بدهد', '.', 'حرف', 'ز', '.', 'بچه', '[', 'شراف', ']', '(', 'https', ':', '//search', '.', 'farsnews', '.', 'ir/', '?', 'q=شرافت&o=on', ')', 'باز', 'کردند', '.', 'چه', 'کار', 'می\\\\u200cکرد', '؟', 'مجبور', 'بود', 'باز', 'اهواز', 'برو', '.', 'کجا', 'باز', 'می\\\\u200cکرد', '؟', 'دوس', 'داشت', 'شرایط', 'میزبان', 'خود', 'استفاده', 'کن', '.', 'هفته', 'اول', 'امتیاز', 'پیک', 'گرفت', 'باز', 'سپاه', 'اگر', 'حت', 'امتیاز', 'می\\\\u200cگرفت', 'نتیجه', '[', 'خوب', ']', '(', 'https', ':', '//search', '.', 'farsnews', '.', 'ir/', '?', 'q=خوبی&o=on', ')', 'بود', '.', 'حرف', 'باشگاه', 'فوتبال', 'قشنگ', 'نیس', '.', 'مجدم', 'مورد', 'استعفا', 'مدیرعامل', 'باشگاه', 'نف', 'مسجدسل', 'اظهار', 'دا', ':', 'من', 'مسئله', 'مطمئن', 'نیس', '.', 'دیروز', 'عصر', 'سر', 'تمرین', 'خبر', 'نبود', 'اما', 'صددرصد', 'هرچه', 'تغییر', 'زیاد', 'باشد', 'اذ', 'می\\\\u200cکند', '.', 'تابع', 'تصم', 'باشگاه', 'هست', 'امیدوار', 'هر', 'اتفاق', 'می\\\\u200cافتد', 'صلاح', 'باشد', '.', 'مورد', 'باز', 'هفته', 'آینده', 'بحر', 'زده', 'پدیده', 'مشهد', '،', 'گف', ':', 'قطعا', 'باز', 'تلا', 'می\\\\u200cکن', 'بتوان', 'نتیجه', 'بگیر', '.', 'خوب', 'دار', 'خود', 'نگاه', 'کن', '.', 'مقابل', 'پیک', 'باز', 'خوب', 'انجا', 'داد', '.', 'مقابل', 'سپاه', 'نباید', 'اینطور', 'شکس', 'می\\\\u200cخورد', 'اما', 'غافلگیر', 'شد', '.', 'پدیده', 'شرایط', 'خوب', 'ندارد', 'بعض', 'اوق', 'تعویض', 'مرب', 'نفع', 'حریف', 'می\\\\u200cشود', '.', 'هر', 'حال', 'تما', 'تلاش', 'دس', 'پر', 'مشهد', 'برگرد', '.', 'پیام/']\""
      ]
     },
     "execution_count": 75,
     "metadata": {},
     "output_type": "execute_result"
    }
   ],
   "source": [
    "tokens = df.loc[0, 'tokens']\n",
    "tokens"
   ]
  },
  {
   "cell_type": "code",
   "execution_count": 76,
   "id": "c3008e0d",
   "metadata": {},
   "outputs": [
    {
     "data": {
      "text/plain": [
       "'مجدم'"
      ]
     },
     "execution_count": 76,
     "metadata": {},
     "output_type": "execute_result"
    }
   ],
   "source": [
    "s = ast.literal_eval(tokens)\n",
    "s[1]"
   ]
  },
  {
   "cell_type": "code",
   "execution_count": 79,
   "id": "e96dbad6",
   "metadata": {},
   "outputs": [
    {
     "ename": "NameError",
     "evalue": "name 'my_str' is not defined",
     "output_type": "error",
     "traceback": [
      "\u001b[0;31m---------------------------------------------------------------------------\u001b[0m",
      "\u001b[0;31mNameError\u001b[0m                                 Traceback (most recent call last)",
      "\u001b[0;32m<ipython-input-79-4830f0a19ff2>\u001b[0m in \u001b[0;36m<module>\u001b[0;34m\u001b[0m\n\u001b[0;32m----> 1\u001b[0;31m \u001b[0mdf\u001b[0m\u001b[0;34m[\u001b[0m\u001b[0;34m'tokens'\u001b[0m\u001b[0;34m]\u001b[0m \u001b[0;34m=\u001b[0m \u001b[0mdf\u001b[0m\u001b[0;34m[\u001b[0m\u001b[0;34m'tokens'\u001b[0m\u001b[0;34m]\u001b[0m\u001b[0;34m.\u001b[0m\u001b[0mapply\u001b[0m\u001b[0;34m(\u001b[0m\u001b[0mast\u001b[0m\u001b[0;34m.\u001b[0m\u001b[0mliteral_eval\u001b[0m\u001b[0;34m(\u001b[0m\u001b[0mmy_str\u001b[0m\u001b[0;34m.\u001b[0m\u001b[0mreplace\u001b[0m\u001b[0;34m(\u001b[0m\u001b[0;34m'\\r'\u001b[0m\u001b[0;34m,\u001b[0m\u001b[0;34m'\\\\r'\u001b[0m\u001b[0;34m)\u001b[0m\u001b[0;34m.\u001b[0m\u001b[0mreplace\u001b[0m\u001b[0;34m(\u001b[0m\u001b[0;34m'\\n'\u001b[0m\u001b[0;34m,\u001b[0m\u001b[0;34m'\\\\n'\u001b[0m\u001b[0;34m)\u001b[0m\u001b[0;34m)\u001b[0m\u001b[0;34m)\u001b[0m\u001b[0;34m\u001b[0m\u001b[0;34m\u001b[0m\u001b[0m\n\u001b[0m",
      "\u001b[0;31mNameError\u001b[0m: name 'my_str' is not defined"
     ]
    }
   ],
   "source": [
    "df['tokens'] = df['tokens'].apply(x: x.replace('\\r','\\\\r').replace('\\n','\\\\n')))"
   ]
  },
  {
   "cell_type": "code",
   "execution_count": 31,
   "id": "995a846a",
   "metadata": {},
   "outputs": [],
   "source": [
    "dff = pd.DataFrame()"
   ]
  },
  {
   "cell_type": "code",
   "execution_count": 32,
   "id": "bc94e2ae",
   "metadata": {},
   "outputs": [],
   "source": [
    "dff['x'] = [1, 2, 3]"
   ]
  },
  {
   "cell_type": "code",
   "execution_count": 37,
   "id": "5897fcdf",
   "metadata": {},
   "outputs": [],
   "source": [
    "dff = pd.DataFrame(data={'A': [1, 2, 3], 'B': ['x', 'y', 'z']})"
   ]
  },
  {
   "cell_type": "code",
   "execution_count": 38,
   "id": "90ab3878",
   "metadata": {},
   "outputs": [
    {
     "data": {
      "text/html": [
       "<div>\n",
       "<style scoped>\n",
       "    .dataframe tbody tr th:only-of-type {\n",
       "        vertical-align: middle;\n",
       "    }\n",
       "\n",
       "    .dataframe tbody tr th {\n",
       "        vertical-align: top;\n",
       "    }\n",
       "\n",
       "    .dataframe thead th {\n",
       "        text-align: right;\n",
       "    }\n",
       "</style>\n",
       "<table border=\"1\" class=\"dataframe\">\n",
       "  <thead>\n",
       "    <tr style=\"text-align: right;\">\n",
       "      <th></th>\n",
       "      <th>A</th>\n",
       "      <th>B</th>\n",
       "    </tr>\n",
       "  </thead>\n",
       "  <tbody>\n",
       "    <tr>\n",
       "      <th>0</th>\n",
       "      <td>1</td>\n",
       "      <td>x</td>\n",
       "    </tr>\n",
       "    <tr>\n",
       "      <th>1</th>\n",
       "      <td>2</td>\n",
       "      <td>y</td>\n",
       "    </tr>\n",
       "    <tr>\n",
       "      <th>2</th>\n",
       "      <td>3</td>\n",
       "      <td>z</td>\n",
       "    </tr>\n",
       "  </tbody>\n",
       "</table>\n",
       "</div>"
      ],
      "text/plain": [
       "   A  B\n",
       "0  1  x\n",
       "1  2  y\n",
       "2  3  z"
      ]
     },
     "execution_count": 38,
     "metadata": {},
     "output_type": "execute_result"
    }
   ],
   "source": [
    "dff"
   ]
  },
  {
   "cell_type": "code",
   "execution_count": 41,
   "id": "c18ae29f",
   "metadata": {},
   "outputs": [],
   "source": [
    "dff.at[1, 'B'] = [1, 2]"
   ]
  },
  {
   "cell_type": "code",
   "execution_count": 44,
   "id": "d49b72a8",
   "metadata": {},
   "outputs": [
    {
     "name": "stdout",
     "output_type": "stream",
     "text": [
      "<class 'pandas.core.frame.DataFrame'>\n",
      "RangeIndex: 3 entries, 0 to 2\n",
      "Data columns (total 2 columns):\n",
      " #   Column  Non-Null Count  Dtype \n",
      "---  ------  --------------  ----- \n",
      " 0   A       3 non-null      int64 \n",
      " 1   B       3 non-null      object\n",
      "dtypes: int64(1), object(1)\n",
      "memory usage: 176.0+ bytes\n"
     ]
    }
   ],
   "source": [
    "dff.info()"
   ]
  },
  {
   "cell_type": "code",
   "execution_count": null,
   "id": "aea1dacf",
   "metadata": {},
   "outputs": [],
   "source": []
  }
 ],
 "metadata": {
  "kernelspec": {
   "display_name": "Python 3",
   "language": "python",
   "name": "python3"
  },
  "language_info": {
   "codemirror_mode": {
    "name": "ipython",
    "version": 3
   },
   "file_extension": ".py",
   "mimetype": "text/x-python",
   "name": "python",
   "nbconvert_exporter": "python",
   "pygments_lexer": "ipython3",
   "version": "3.9.7"
  }
 },
 "nbformat": 4,
 "nbformat_minor": 5
}
